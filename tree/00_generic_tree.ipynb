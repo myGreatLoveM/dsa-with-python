{
  "metadata": {
    "kernelspec": {
      "name": "python",
      "display_name": "Python (Pyodide)",
      "language": "python"
    },
    "language_info": {
      "codemirror_mode": {
        "name": "python",
        "version": 3
      },
      "file_extension": ".py",
      "mimetype": "text/x-python",
      "name": "python",
      "nbconvert_exporter": "python",
      "pygments_lexer": "ipython3",
      "version": "3.8"
    }
  },
  "nbformat_minor": 5,
  "nbformat": 4,
  "cells": [
    {
      "id": "83b9e328-48c6-47c4-838d-a2337d79aa5d",
      "cell_type": "code",
      "source": "from collections import deque",
      "metadata": {
        "trusted": true
      },
      "outputs": [],
      "execution_count": 4
    },
    {
      "id": "e758ece3-8485-4f69-9a4b-d6ecb4d9cdbd",
      "cell_type": "code",
      "source": "class TreeNode:\n    def __init__(self, data):\n        self.data = data\n        self.children = []\n\n    def __repr__(self):\n        return f'root {self.data} : {[child.data for child in self.children]}'",
      "metadata": {
        "trusted": true
      },
      "outputs": [],
      "execution_count": 5
    },
    {
      "id": "ec899119-ebb3-4a55-ae75-d28ed1dff89c",
      "cell_type": "code",
      "source": "root = TreeNode(0)\nchild1 = TreeNode(1)\nchild2 = TreeNode(2)\nchild3 = TreeNode(3)\n\nroot.children.extend([child1, child2, child3])\nprint(root)",
      "metadata": {
        "trusted": true
      },
      "outputs": [
        {
          "name": "stdout",
          "output_type": "stream",
          "text": "root 0 : [1, 2, 3]\n"
        }
      ],
      "execution_count": 6
    },
    {
      "id": "a46c1ff4-29ca-4fb9-9433-f1c78888d4be",
      "cell_type": "code",
      "source": "def print_tree(root, parent=None, level=0):\n    if root is None or not isinstance(root, TreeNode):\n        print('Not valid Tree')\n        return\n    if parent is None:\n        print(f'- root node {root.data} : ', end=\"\")\n    elif parent and len(root.children) != 0:\n        print(f'{' '*level}- parent node {root.data} : ', end=\"\")\n    else:\n        print(f'{' '*level}- child node {root.data}')\n        return\n        \n    for child in root.children:\n        print(child.data, end=\",\")\n        \n    print()\n    \n    for child in root.children:\n        print_tree(child, parent=root, level=level+1)",
      "metadata": {
        "trusted": true
      },
      "outputs": [],
      "execution_count": 7
    },
    {
      "id": "eae2e8dd-85d8-4b96-961d-5fa90013f64f",
      "cell_type": "code",
      "source": "root = TreeNode(0)\nchild1 = TreeNode(1)\nchild2 = TreeNode(2)\nchild3 = TreeNode(3)\nchild4 = TreeNode(4)\nchild5 = TreeNode(5)\nchild6 = TreeNode(6)\nchild7 = TreeNode(7)\n\nroot.children.extend([child1, child2, child3])\nchild1.children.append(child4)\nchild3.children.extend([child5, child6])\nchild5.children.append(child7)\n\nprint_tree(root)",
      "metadata": {
        "trusted": true
      },
      "outputs": [
        {
          "name": "stdout",
          "output_type": "stream",
          "text": "- root node 0 : 1,2,3,\n - parent node 1 : 4,\n  - child node 4\n - child node 2\n - parent node 3 : 5,6,\n  - parent node 5 : 7,\n   - child node 7\n  - child node 6\n"
        }
      ],
      "execution_count": 8
    },
    {
      "id": "bb451d4d-3979-48a4-ba64-fe053c840419",
      "cell_type": "code",
      "source": "def build_tree():\n    root_data = int(input('Enter the data for root node : '))\n    root = TreeNode(root_data)\n    node_queue = deque([root])\n    print()\n    \n    while node_queue:\n        print_tree(root)\n        print()\n        \n        curr_node = node_queue.popleft()\n        no_of_child = int(input(f'Enter the no of children for parent node {curr_node.data} : '))\n\n        for i in range(1, no_of_child+1):\n            child_data = int(input(f'Enter the data for child node {i} whose parent node is {curr_node.data} : '))\n            child = TreeNode(child_data)\n            curr_node.children.append(child)\n            node_queue.append(child)\n            \n        print()\n    return root",
      "metadata": {
        "trusted": true
      },
      "outputs": [],
      "execution_count": 10
    },
    {
      "id": "c6d21f4a-4c6a-4fdf-b460-5d228aba1f40",
      "cell_type": "code",
      "source": "def count_nodes_recursive(root):\n    if root is None:\n        return 0\n    total_nodes = 1 \n    for child in root.children:\n        total_nodes = total_nodes + count_nodes_recursive(child)\n    return total_nodes",
      "metadata": {
        "trusted": true
      },
      "outputs": [],
      "execution_count": 13
    },
    {
      "id": "a8a894cd-4814-4245-976d-3e4d49c4a570",
      "cell_type": "code",
      "source": "count_nodes_recursive(root)",
      "metadata": {
        "trusted": true
      },
      "outputs": [
        {
          "execution_count": 15,
          "output_type": "execute_result",
          "data": {
            "text/plain": "8"
          },
          "metadata": {}
        }
      ],
      "execution_count": 15
    },
    {
      "id": "1457eb82-1acc-4e37-ad5f-7d7d22bf0ee6",
      "cell_type": "code",
      "source": "def count_nodes(root):\n    total_nodes = 0\n    if root is None:\n        return total_nodes\n    node_queue = deque([root])\n\n    while node_queue:\n        curr = node_queue.popleft()\n        total_nodes += 1\n        node_queue.extend(curr.children)\n    return total_nodes",
      "metadata": {
        "trusted": true
      },
      "outputs": [],
      "execution_count": 18
    },
    {
      "id": "25dbf6ce-2032-40ab-9ab1-cb3c329ffa7a",
      "cell_type": "code",
      "source": "count_nodes(root)",
      "metadata": {
        "trusted": true
      },
      "outputs": [
        {
          "execution_count": 19,
          "output_type": "execute_result",
          "data": {
            "text/plain": "8"
          },
          "metadata": {}
        }
      ],
      "execution_count": 19
    },
    {
      "id": "a98250a5-4c0f-4abb-ae45-381c18c1b987",
      "cell_type": "code",
      "source": "def sum_of_nodes_recursive(root):\n    if root is None:\n        return 0\n    total_sum = root.data\n    for child in root.children:\n        total_sum += sum_of_nodes_recursive(child)\n    return total_sum",
      "metadata": {
        "trusted": true
      },
      "outputs": [],
      "execution_count": 22
    },
    {
      "id": "5ada1c53-5ea5-4605-a154-b9561ac776cc",
      "cell_type": "code",
      "source": "sum_of_nodes_recursive(root)",
      "metadata": {
        "trusted": true
      },
      "outputs": [
        {
          "execution_count": 23,
          "output_type": "execute_result",
          "data": {
            "text/plain": "28"
          },
          "metadata": {}
        }
      ],
      "execution_count": 23
    },
    {
      "id": "350c2054-a19e-4447-8336-06cba9507e27",
      "cell_type": "code",
      "source": "def sum_of_nodes(root):\n    total_sum = 0\n    if root is None:\n        return total_sum\n        \n    total_sum += root.data\n    q = deque([root])\n    \n    while q:\n        curr = q.popleft()\n        \n        for child in curr.children:\n            total_sum += child.data\n            q.append(child)\n    \n    return total_sum",
      "metadata": {
        "trusted": true
      },
      "outputs": [],
      "execution_count": 37
    },
    {
      "id": "deec553f-7844-424c-b6e7-739adec58cf4",
      "cell_type": "code",
      "source": "sum_of_nodes(root)",
      "metadata": {
        "trusted": true
      },
      "outputs": [
        {
          "execution_count": 38,
          "output_type": "execute_result",
          "data": {
            "text/plain": "28"
          },
          "metadata": {}
        }
      ],
      "execution_count": 38
    },
    {
      "id": "5e6e7fbc-e30f-4dda-8501-0375e8be4548",
      "cell_type": "code",
      "source": "def height_of_tree_recursive(root):\n    if root is None:\n        return 0\n    max_height = 0\n    for child in root.children:\n        max_height = max(max_height, height_of_tree_recursive(child))\n    return max_height + 1",
      "metadata": {
        "trusted": true
      },
      "outputs": [],
      "execution_count": 26
    },
    {
      "id": "cbee4a04-fd9b-4909-923f-0a867f7a6e1b",
      "cell_type": "code",
      "source": "height_of_tree_recursive(root)",
      "metadata": {
        "trusted": true
      },
      "outputs": [
        {
          "execution_count": 27,
          "output_type": "execute_result",
          "data": {
            "text/plain": "4"
          },
          "metadata": {}
        }
      ],
      "execution_count": 27
    },
    {
      "id": "4bac0a71-a364-4902-a3b5-8aa21c1fde26",
      "cell_type": "code",
      "source": "def preorder_traverse_tree(root):\n    if root is None:\n        return \n    print(root.data, end=\" --> \")\n\n    for child in root.children:\n        preorder_traverse_tree(child)\n    ",
      "metadata": {
        "trusted": true
      },
      "outputs": [],
      "execution_count": 30
    },
    {
      "id": "095ffcc6-8558-4366-b28b-67db2ac366a0",
      "cell_type": "code",
      "source": "preorder_traverse_tree(root)",
      "metadata": {
        "trusted": true
      },
      "outputs": [
        {
          "name": "stdout",
          "output_type": "stream",
          "text": "0 --> 1 --> 4 --> 2 --> 3 --> 5 --> 7 --> 6 --> "
        }
      ],
      "execution_count": 31
    },
    {
      "id": "cdaab599-0cbd-4028-8fe6-7ff710be5a3a",
      "cell_type": "code",
      "source": "print_tree(root)",
      "metadata": {
        "trusted": true
      },
      "outputs": [
        {
          "name": "stdout",
          "output_type": "stream",
          "text": "- root node 0 : 1,2,3,\n - parent node 1 : 4,\n  - child node 4\n - child node 2\n - parent node 3 : 5,6,\n  - parent node 5 : 7,\n   - child node 7\n  - child node 6\n"
        }
      ],
      "execution_count": 32
    },
    {
      "id": "f34d0590-ebc9-4f54-89d3-c75f1c2c0a22",
      "cell_type": "code",
      "source": "def postorder_traverse_tree(root):\n    if root is None:\n        return \n    for child in root.children:\n        postorder_traverse_tree(child)\n    print(root.data, end=\" -> \")",
      "metadata": {
        "trusted": true
      },
      "outputs": [],
      "execution_count": 41
    },
    {
      "id": "ca9ddc32-f008-49a3-9b95-d4a7696ca351",
      "cell_type": "code",
      "source": "postorder_traverse_tree(root)",
      "metadata": {
        "trusted": true
      },
      "outputs": [
        {
          "name": "stdout",
          "output_type": "stream",
          "text": "4 -> 1 -> 2 -> 7 -> 5 -> 6 -> 3 -> 0 -> "
        }
      ],
      "execution_count": 43
    },
    {
      "id": "65305eda-d1ef-4056-95c1-8046f80f5787",
      "cell_type": "code",
      "source": "## BFS Traversal (Level-wise traversal)\n\ndef larget_value_at_level(root):\n    if root is None:\n        return []\n        \n    node_queue = deque([root])\n    result = []\n\n    while node_queue:\n\n        level_size = len(node_queue)\n        max_val = float('-inf')\n        \n        for _ in range(level_size):\n            curr = node_queue.popleft()\n            max_val = max(max_val, curr.data)\n            node_queue.extend(curr.children)\n            \n        result.append(max_val)\n\n    return result",
      "metadata": {
        "trusted": true
      },
      "outputs": [],
      "execution_count": 39
    },
    {
      "id": "dd5d43d3-46ca-4e70-8474-713faf0100cf",
      "cell_type": "code",
      "source": "larget_value_at_level(root)",
      "metadata": {
        "trusted": true
      },
      "outputs": [
        {
          "execution_count": 29,
          "output_type": "execute_result",
          "data": {
            "text/plain": "[0, 3, 6, 7]"
          },
          "metadata": {}
        }
      ],
      "execution_count": 29
    },
    {
      "id": "e691794b-93f2-4cf3-a60c-89333f119315",
      "cell_type": "code",
      "source": "def predefined_generic_tree_inputs():\n    # Tree 1\n    root1 = TreeNode(1)\n    child1 = TreeNode(2)\n    child2 = TreeNode(3)\n    root1.children.append(child1)\n    root1.children.append(child2)\n    \n    child1.children.append(TreeNode(4))\n    child1.children.append(TreeNode(5))\n    \n    # Tree 2\n    root2 = TreeNode(10)\n    child1 = TreeNode(20)\n    child2 = TreeNode(30)\n    child3 = TreeNode(40)\n    root2.children.append(child1)\n    root2.children.append(child2)\n    root2.children.append(child3)\n    \n    child2.children.append(TreeNode(50))\n    child2.children.append(TreeNode(60))\n    \n    # Tree 3\n    root3 = TreeNode(100)\n    child1 = TreeNode(200)\n    root3.children.append(child1)\n    root3.children.append(TreeNode(300))\n    \n    child1.children.append(TreeNode(400))\n    child1.children.append(TreeNode(500))\n\n    return root1, root2, root3\n\n# Getting predefined generic trees\n#root1, root2, root3 = predefined_generic_tree_inputs()\n\n# Properties (Examples)\n# root1: Contains 5 nodes, Height = 3\n# Structure: \n#       1\n#     /   \\\n#    2     3\n#   / \\\n#  4   5\n#\n# root2: Contains 6 nodes, Height = 3\n# Structure:\n#       10\n#    /   |   \\\n#  20    30   40\n#        / \\\n#      50   60\n#\n# root3: Contains 5 nodes, Height = 3\n# Structure:\n#       100\n#      /   \\\n#    200   300\n#   / \\\n# 400 500\n",
      "metadata": {
        "trusted": true
      },
      "outputs": [],
      "execution_count": null
    },
    {
      "id": "0e77887b-2d4b-4a61-a7a8-d573f666c7b2",
      "cell_type": "code",
      "source": "",
      "metadata": {
        "trusted": true
      },
      "outputs": [],
      "execution_count": null
    },
    {
      "id": "7196099a-d75f-4255-b5ad-50c91f1128b4",
      "cell_type": "code",
      "source": "",
      "metadata": {
        "trusted": true
      },
      "outputs": [],
      "execution_count": null
    }
  ]
}
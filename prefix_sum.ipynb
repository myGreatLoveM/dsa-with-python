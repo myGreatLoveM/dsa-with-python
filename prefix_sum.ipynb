{
  "metadata": {
    "kernelspec": {
      "name": "python",
      "display_name": "Python (Pyodide)",
      "language": "python"
    },
    "language_info": {
      "codemirror_mode": {
        "name": "python",
        "version": 3
      },
      "file_extension": ".py",
      "mimetype": "text/x-python",
      "name": "python",
      "nbconvert_exporter": "python",
      "pygments_lexer": "ipython3",
      "version": "3.8"
    }
  },
  "nbformat_minor": 5,
  "nbformat": 4,
  "cells": [
    {
      "id": "0987d65b-4436-4803-af09-11e158e98e31",
      "cell_type": "code",
      "source": "from typing import List",
      "metadata": {
        "trusted": true
      },
      "outputs": [],
      "execution_count": 17
    },
    {
      "id": "981e7ac1-6fb6-474d-8f04-4a84c6040072",
      "cell_type": "code",
      "source": "nums = [8, 3, -2, 1, 10, 4, 3, -5, 0, 6, 2]",
      "metadata": {
        "trusted": true
      },
      "outputs": [],
      "execution_count": 1
    },
    {
      "id": "62053d1e-e420-40f5-b31e-d14a2d508d58",
      "cell_type": "markdown",
      "source": "### naive approach not recommended",
      "metadata": {}
    },
    {
      "id": "133e14d8-3887-4fe4-8fc4-857c13c2582c",
      "cell_type": "code",
      "source": "prefixs = []\ncurr_prefix_sum = 0\n\nfor i in range(len(nums)):\n    curr_prefix_sum += nums[i]\n    prefixs.append(curr_prefix_sum)\n\nprefixs",
      "metadata": {
        "trusted": true
      },
      "outputs": [
        {
          "execution_count": 9,
          "output_type": "execute_result",
          "data": {
            "text/plain": "[8, 11, 9, 10, 20, 24, 27, 22, 22, 28, 30]"
          },
          "metadata": {}
        }
      ],
      "execution_count": 9
    },
    {
      "id": "5bda61d5-859a-47ed-a2a4-ef86476e9cbe",
      "cell_type": "markdown",
      "source": "### prefixs list",
      "metadata": {}
    },
    {
      "id": "15268018-4310-47a0-a554-d480bb1e58d2",
      "cell_type": "code",
      "source": "def list_prefixs(nums: List[int]):\n    prefixs = [0]*len(nums)\n    prefixs[0] = nums[0]\n    \n    for i in range(1, len(nums)):\n        prefixs[i] = prefixs[i-1] + nums[i]\n    return prefixs",
      "metadata": {
        "trusted": true
      },
      "outputs": [],
      "execution_count": 20
    },
    {
      "id": "e24c7460-f94c-43bf-a196-3bcde45715be",
      "cell_type": "code",
      "source": "list_prefixs(nums)",
      "metadata": {
        "trusted": true
      },
      "outputs": [
        {
          "execution_count": 21,
          "output_type": "execute_result",
          "data": {
            "text/plain": "[8, 11, 9, 10, 20, 24, 27, 22, 22, 28, 30]"
          },
          "metadata": {}
        }
      ],
      "execution_count": 21
    },
    {
      "id": "7618930a-b089-441f-a78f-df74ead28a7e",
      "cell_type": "code",
      "source": "def list_range_sum(l, r, nums):\n    if l < 0 and r > len(nums):\n        print('index out of range')\n        return\n    prefixs = list_prefixs(nums)\n    return prefixs[r] - prefixs[l-1] if l > 0 else prefixs[r]",
      "metadata": {
        "trusted": true
      },
      "outputs": [],
      "execution_count": 18
    },
    {
      "id": "0b23e5bb-0c02-4633-b20e-e1077eef9643",
      "cell_type": "code",
      "source": "list_range_sum(1, 4, nums)",
      "metadata": {
        "trusted": true
      },
      "outputs": [
        {
          "execution_count": 19,
          "output_type": "execute_result",
          "data": {
            "text/plain": "12"
          },
          "metadata": {}
        }
      ],
      "execution_count": 19
    },
    {
      "id": "07c08c4b-759e-420a-9323-ca51c5b112f6",
      "cell_type": "markdown",
      "source": "### prefixs list recommended approach",
      "metadata": {}
    },
    {
      "id": "ed958d9d-506d-47e9-bcaf-77445035deff",
      "cell_type": "code",
      "source": "def list_prefixs_1(nums: List[int]) -> List[int]:\n    size = len(nums)\n    prefixs = [0] * (size+1)\n    \n    for i in range(size):\n        prefixs[i+1] = prefixs[i] + nums[i]\n    return prefixs",
      "metadata": {
        "trusted": true
      },
      "outputs": [],
      "execution_count": 24
    },
    {
      "id": "4173fd72-ea72-4193-8c4e-b90ac5d4ce2c",
      "cell_type": "code",
      "source": "list_prefixs_1(nums)",
      "metadata": {
        "trusted": true
      },
      "outputs": [
        {
          "execution_count": 26,
          "output_type": "execute_result",
          "data": {
            "text/plain": "[0, 8, 11, 9, 10, 20, 24, 27, 22, 22, 28, 30]"
          },
          "metadata": {}
        }
      ],
      "execution_count": 26
    },
    {
      "id": "b6d41b98-2359-4ab0-b3d1-1e01321f853a",
      "cell_type": "code",
      "source": "def list_prefixs_2(nums: List[int]) -> List[int]:\n    size = len(nums)\n    prefixs = [0] * (size+1)\n    \n    for i in range(1, size+1):\n        prefixs[i] = prefixs[i-1] + nums[i-1]\n    \n    return prefixs",
      "metadata": {
        "trusted": true
      },
      "outputs": [],
      "execution_count": 25
    },
    {
      "id": "a28775fb-ea71-4386-a149-03d52cd8d4e1",
      "cell_type": "code",
      "source": "list_prefixs_2(nums)",
      "metadata": {
        "trusted": true
      },
      "outputs": [
        {
          "execution_count": 27,
          "output_type": "execute_result",
          "data": {
            "text/plain": "[0, 8, 11, 9, 10, 20, 24, 27, 22, 22, 28, 30]"
          },
          "metadata": {}
        }
      ],
      "execution_count": 27
    },
    {
      "id": "169ad3e1-30e8-4d71-af99-c23517475f62",
      "cell_type": "code",
      "source": "def list_range_sum_1(l, r, nums):\n    if l < 0 and r > len(nums):\n        print('index out of range')\n        return\n    prefixs = list_prefixs_1(nums)\n    return prefixs[r+1] - prefixs[l]",
      "metadata": {
        "trusted": true
      },
      "outputs": [],
      "execution_count": 29
    },
    {
      "id": "a38d31d7-363e-40d8-bd56-7573a0ab78a9",
      "cell_type": "code",
      "source": "list_range_sum_1(4, 8, nums)",
      "metadata": {
        "trusted": true
      },
      "outputs": [
        {
          "execution_count": 31,
          "output_type": "execute_result",
          "data": {
            "text/plain": "12"
          },
          "metadata": {}
        }
      ],
      "execution_count": 31
    },
    {
      "id": "caae61a8-9f56-4a5f-8e35-8e7370bb69b2",
      "cell_type": "code",
      "source": "",
      "metadata": {
        "trusted": true
      },
      "outputs": [],
      "execution_count": null
    },
    {
      "id": "0acc52e7-2007-4966-93b3-6b9b9e268cf3",
      "cell_type": "code",
      "source": "",
      "metadata": {
        "trusted": true
      },
      "outputs": [],
      "execution_count": null
    },
    {
      "id": "13581a58-f940-4b32-8cc7-efb11ec6a59e",
      "cell_type": "code",
      "source": "",
      "metadata": {
        "trusted": true
      },
      "outputs": [],
      "execution_count": null
    }
  ]
}
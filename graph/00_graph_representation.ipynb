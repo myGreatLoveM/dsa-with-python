{
  "metadata": {
    "kernelspec": {
      "name": "python",
      "display_name": "Python (Pyodide)",
      "language": "python"
    },
    "language_info": {
      "codemirror_mode": {
        "name": "python",
        "version": 3
      },
      "file_extension": ".py",
      "mimetype": "text/x-python",
      "name": "python",
      "nbconvert_exporter": "python",
      "pygments_lexer": "ipython3",
      "version": "3.8"
    }
  },
  "nbformat_minor": 5,
  "nbformat": 4,
  "cells": [
    {
      "id": "4a5e0a67-9e08-4bbf-86ab-d9c097f41e00",
      "cell_type": "markdown",
      "source": "## Graph Representation",
      "metadata": {}
    },
    {
      "id": "d25ee3d7-bce2-4de4-8cbb-445ea2c652d5",
      "cell_type": "code",
      "source": "from typing import List\nfrom collections import defaultdict",
      "metadata": {
        "trusted": true
      },
      "outputs": [],
      "execution_count": 75
    },
    {
      "id": "5cdda889-7c1b-40fe-996c-6bac65e6bf14",
      "cell_type": "code",
      "source": "edges = [\n    (\"A\", \"B\"),\n    (\"A\", \"C\"),\n    (\"B\", \"C\"),\n    (\"C\", \"D\")\n]",
      "metadata": {
        "trusted": true
      },
      "outputs": [],
      "execution_count": null
    },
    {
      "id": "f127d3c1-27d9-4319-b6d5-28e987f49298",
      "cell_type": "markdown",
      "source": "### Adjacency Matrix from edges",
      "metadata": {}
    },
    {
      "id": "9152de9a-9ea9-416f-a34c-2ef732a80cad",
      "cell_type": "code",
      "source": "def adjanceny_matrix_of_graph(edges, is_undirected=False):\n    nodes = sorted(set([node for edge in edges for node in edge]))\n    nodes_idx = {node:idx for idx, node in enumerate(nodes)}\n\n    size_of_matrix = len(nodes)\n    matrix = [[0]*size_of_matrix for _ in range(size_of_matrix)]\n\n    for first_node, second_node in edges:\n        first_node_pos, second_node_pos = nodes_idx[first_node], nodes_idx[second_node]\n        matrix[first_node_pos][second_node_pos] = 1\n        if is_undirected:\n            matrix[second_node_pos][first_node_pos] = 1\n\n    return nodes, nodes_idx, matrix   ",
      "metadata": {
        "trusted": true
      },
      "outputs": [],
      "execution_count": 78
    },
    {
      "id": "45a56e05-060a-466e-a054-acef19213d5a",
      "cell_type": "code",
      "source": "def print_adjanceny_matrix(adj_matrix, nodes):\n    print(\"  \", \"  \".join(nodes))\n    for node, row in zip(nodes, adj_matrix):\n        print(node, row)\n    return",
      "metadata": {
        "trusted": true
      },
      "outputs": [],
      "execution_count": 77
    },
    {
      "id": "6cfe5fca-8004-4e23-ae33-b118ce13d3b5",
      "cell_type": "code",
      "source": "def nbrs_of_node_from_adj_matrix(node, nodes, nodes_idx, adj_matrix: List[List]):\n    if node not in nodes:\n        print('No such node in graph')\n        return\n    return [nodes[i] for i, nbr in enumerate(adj_matrix[nodes_idx.get(node)]) if nbr == 1]",
      "metadata": {
        "trusted": true
      },
      "outputs": [],
      "execution_count": 76
    },
    {
      "id": "bb5949c7-0286-4c3e-9ec2-cfb5d839f330",
      "cell_type": "code",
      "source": "nodes, nodes_map, matrix = adjanceny_matrix_of_graph(edges)\n\nnbrs_of_node_from_adj_matrix('B', nodes, nodes_map, matrix)",
      "metadata": {
        "trusted": true
      },
      "outputs": [
        {
          "execution_count": 74,
          "output_type": "execute_result",
          "data": {
            "text/plain": "['C']"
          },
          "metadata": {}
        }
      ],
      "execution_count": 74
    },
    {
      "id": "d64f60e2-24fb-487c-864b-656715d38b31",
      "cell_type": "markdown",
      "source": "### Adjacency List from edges",
      "metadata": {}
    },
    {
      "id": "7155368d-096d-4bd6-b457-5effb29ba9b7",
      "cell_type": "code",
      "source": "def adjanceny_list_of_graph(edges, is_undirected=False):\n    adj_list = defaultdict(list)\n    \n    for u, v in edges:\n        adj_list[u].append(v)\n        \n        if is_undirected:\n            adj_list[v].append(u)\n\n        if v not in adj_list:\n            adj_list.setdefault(v, [])\n    return adj_list",
      "metadata": {
        "trusted": true
      },
      "outputs": [],
      "execution_count": 46
    },
    {
      "id": "614fbb42-3a24-489a-a422-39653e85363c",
      "cell_type": "code",
      "source": "def nbrs_of_node_from_adj_list(node, adj_list: dict):\n    if node not in adj_list:\n        print('No such node')\n        return\n    return adj_list[node]",
      "metadata": {
        "trusted": true
      },
      "outputs": [],
      "execution_count": null
    },
    {
      "id": "27ce1b53-179b-4bf3-996d-f434246c177e",
      "cell_type": "code",
      "source": "adjanceny_list_of_graph(edges)",
      "metadata": {
        "trusted": true
      },
      "outputs": [
        {
          "execution_count": 47,
          "output_type": "execute_result",
          "data": {
            "text/plain": "defaultdict(list, {'A': ['B', 'C'], 'B': ['C'], 'C': ['D'], 'D': []})"
          },
          "metadata": {}
        }
      ],
      "execution_count": 47
    },
    {
      "id": "df0109f5-2a01-46ef-8b3c-442f733387cc",
      "cell_type": "code",
      "source": "adjanceny_list_of_graph(edges, is_undirected=True)",
      "metadata": {
        "trusted": true
      },
      "outputs": [
        {
          "execution_count": 48,
          "output_type": "execute_result",
          "data": {
            "text/plain": "defaultdict(list,\n            {'A': ['B', 'C'],\n             'B': ['A', 'C'],\n             'C': ['A', 'B', 'D'],\n             'D': ['C']})"
          },
          "metadata": {}
        }
      ],
      "execution_count": 48
    },
    {
      "id": "839626df-8535-4921-bd4c-6b156744d60e",
      "cell_type": "code",
      "source": "neighbours_of_node('C', adjanceny_list_of_graph(edges, is_undirected=True))",
      "metadata": {
        "trusted": true
      },
      "outputs": [
        {
          "execution_count": 49,
          "output_type": "execute_result",
          "data": {
            "text/plain": "['A', 'B', 'D']"
          },
          "metadata": {}
        }
      ],
      "execution_count": 49
    },
    {
      "id": "870f42d8-eded-4d34-af4e-4d87543e208a",
      "cell_type": "code",
      "source": "neighbours_of_node('B', adjanceny_list_of_graph(edges))",
      "metadata": {
        "trusted": true
      },
      "outputs": [
        {
          "execution_count": 50,
          "output_type": "execute_result",
          "data": {
            "text/plain": "['C']"
          },
          "metadata": {}
        }
      ],
      "execution_count": 50
    },
    {
      "id": "c68fb3b1-2bd7-453c-9aca-a980e91ec2b9",
      "cell_type": "code",
      "source": "",
      "metadata": {
        "trusted": true
      },
      "outputs": [],
      "execution_count": null
    },
    {
      "id": "8759f4db-02b7-4042-8363-34617fba5012",
      "cell_type": "code",
      "source": "",
      "metadata": {
        "trusted": true
      },
      "outputs": [],
      "execution_count": null
    },
    {
      "id": "e67ac855-b6f9-4cd5-ad4b-23e09ae59984",
      "cell_type": "code",
      "source": "",
      "metadata": {
        "trusted": true
      },
      "outputs": [],
      "execution_count": null
    },
    {
      "id": "fe323488-976f-40bf-a220-eaa50cc26d16",
      "cell_type": "code",
      "source": "",
      "metadata": {
        "trusted": true
      },
      "outputs": [],
      "execution_count": null
    },
    {
      "id": "2e7d46fe-922b-4460-bc1f-b95f72263374",
      "cell_type": "code",
      "source": "",
      "metadata": {
        "trusted": true
      },
      "outputs": [],
      "execution_count": null
    }
  ]
}
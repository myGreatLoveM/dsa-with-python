{
  "metadata": {
    "kernelspec": {
      "name": "python",
      "display_name": "Python (Pyodide)",
      "language": "python"
    },
    "language_info": {
      "codemirror_mode": {
        "name": "python",
        "version": 3
      },
      "file_extension": ".py",
      "mimetype": "text/x-python",
      "name": "python",
      "nbconvert_exporter": "python",
      "pygments_lexer": "ipython3",
      "version": "3.8"
    }
  },
  "nbformat_minor": 5,
  "nbformat": 4,
  "cells": [
    {
      "id": "f1c4ab4d-a330-48f1-8d2c-9e9187c398f8",
      "cell_type": "code",
      "source": "def dfs_with_adj_matrix(source, adj_matrix):\n    def dfs(source, dfs_traverse_info, adj_matrix):\n        dfs_traverse_info[source][0] = dfs_traverse_info[dfs_traverse_info[source][1]][0] + 1 if dfs_traverse_info[source][1] != -1 else 0\n        neighbors = [nbr for nbr, is_connected in enumerate(adj_matrix[source]) if is_connected != 0]\n\n        for nbr in neighbors:\n            if dfs_traverse_info[nbr][0] == -1:\n                dfs_traverse_info[nbr][1] = source \n                dfs(nbr, dfs_traverse_info, adj_matrix)\n\n    dfs_traverse_info = {}\n    for i in range(len(adj_matrix)):\n        dfs_traverse_info[i] = [-1, -1]\n\n    dfs(source, dfs_traverse_info, adj_matrix)\n\n    return dfs_traverse_info",
      "metadata": {
        "trusted": true
      },
      "outputs": [],
      "execution_count": 13
    },
    {
      "id": "87bb476f-16ad-4922-8c20-a074c801731d",
      "cell_type": "code",
      "source": "adj_matrix = [\n    [0, 1, 1, 0, 0, 0],  # Node 0: connects to 1, 2\n    [1, 0, 1, 1, 0, 0],  # Node 1: connects to 0, 2, 3\n    [1, 1, 0, 0, 1, 0],  # Node 2: connects to 0, 1, 4\n    [0, 1, 0, 0, 1, 1],  # Node 3: connects to 1, 4, 5\n    [0, 0, 1, 1, 0, 1],  # Node 4: connects to 2, 3, 5\n    [0, 0, 0, 1, 1, 0]   # Node 5: connects to 3, 4\n]\n\ndfs_with_adj_matrix(0, adj_matrix)",
      "metadata": {
        "trusted": true
      },
      "outputs": [
        {
          "name": "stdout",
          "output_type": "stream",
          "text": "0\n1\n2\n4\n3\n5\n"
        },
        {
          "execution_count": 14,
          "output_type": "execute_result",
          "data": {
            "text/plain": "{0: [0, -1], 1: [1, 0], 2: [2, 1], 3: [4, 4], 4: [3, 2], 5: [5, 3]}"
          },
          "metadata": {}
        }
      ],
      "execution_count": 14
    },
    {
      "id": "7f87a5f3-05be-4e60-b866-f8d1e798f7c9",
      "cell_type": "code",
      "source": "adj_matrix = [\n    [0, 1, 1, 0, 0, 0, 0, 0],  # 0 → 1, 2\n    [1, 0, 1, 1, 0, 0, 0, 0],  # 1 → 0, 2, 3\n    [1, 1, 0, 0, 1, 0, 0, 0],  # 2 → 0, 1, 4\n    [0, 1, 0, 0, 1, 1, 0, 0],  # 3 → 1, 4, 5\n    [0, 0, 1, 1, 0, 0, 1, 0],  # 4 → 2, 3, 6\n    [0, 0, 0, 1, 0, 0, 1, 1],  # 5 → 3, 6, 7\n    [0, 0, 0, 0, 1, 1, 0, 1],  # 6 → 4, 5, 7\n    [0, 0, 0, 0, 0, 1, 1, 0],  # 7 → 5, 6\n]\n\ndfs_with_adj_matrix(0, adj_matrix)",
      "metadata": {
        "trusted": true
      },
      "outputs": [
        {
          "name": "stdout",
          "output_type": "stream",
          "text": "0\n1\n2\n4\n3\n5\n6\n7\n"
        },
        {
          "execution_count": 15,
          "output_type": "execute_result",
          "data": {
            "text/plain": "{0: [0, -1],\n 1: [1, 0],\n 2: [2, 1],\n 3: [4, 4],\n 4: [3, 2],\n 5: [5, 3],\n 6: [6, 5],\n 7: [7, 6]}"
          },
          "metadata": {}
        }
      ],
      "execution_count": 15
    },
    {
      "id": "dfd5645a-0149-4c9c-a198-7480d7744344",
      "cell_type": "code",
      "source": "",
      "metadata": {
        "trusted": true
      },
      "outputs": [],
      "execution_count": null
    }
  ]
}
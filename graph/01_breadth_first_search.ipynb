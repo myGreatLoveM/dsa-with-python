{
  "metadata": {
    "kernelspec": {
      "name": "python",
      "display_name": "Python (Pyodide)",
      "language": "python"
    },
    "language_info": {
      "codemirror_mode": {
        "name": "python",
        "version": 3
      },
      "file_extension": ".py",
      "mimetype": "text/x-python",
      "name": "python",
      "nbconvert_exporter": "python",
      "pygments_lexer": "ipython3",
      "version": "3.8"
    }
  },
  "nbformat_minor": 5,
  "nbformat": 4,
  "cells": [
    {
      "id": "20648eab-7672-4d43-9e23-ea35903ce803",
      "cell_type": "code",
      "source": "from collections import deque, defaultdict\nfrom typing import List",
      "metadata": {
        "trusted": true
      },
      "outputs": [],
      "execution_count": 32
    },
    {
      "id": "561bb54b-25da-423d-a090-5878d95a879b",
      "cell_type": "code",
      "source": "def bfs_with_adj_matrix(source, adj_matrix):\n    visited = set([source])\n    queue = deque([source])\n\n    while queue:\n        curr_node = queue.popleft()\n        neighbors = [nbr for nbr, is_connected in enumerate(adj_matrix[curr_node]) if is_connected != 0]\n\n        for nbr in neighbors:\n            if nbr not in visited:\n                visited.add(nbr)\n                queue.append(nbr)\n\n    return visited.difference({source})",
      "metadata": {
        "trusted": true
      },
      "outputs": [],
      "execution_count": 66
    },
    {
      "id": "af4a2b90-53ba-4b5b-b4d3-0dd65b0b1747",
      "cell_type": "code",
      "source": "adj_matrix = [\n    [0, 1, 1, 0, 0, 0],  # Node 0: connects to 1, 2\n    [1, 0, 1, 1, 0, 0],  # Node 1: connects to 0, 2, 3\n    [1, 1, 0, 0, 1, 0],  # Node 2: connects to 0, 1, 4\n    [0, 1, 0, 0, 1, 1],  # Node 3: connects to 1, 4, 5\n    [0, 0, 1, 1, 0, 1],  # Node 4: connects to 2, 3, 5\n    [0, 0, 0, 1, 1, 0]   # Node 5: connects to 3, 4\n]\n\nbfs_with_adj_matrix(0, adj_matrix)",
      "metadata": {
        "trusted": true
      },
      "outputs": [
        {
          "execution_count": 67,
          "output_type": "execute_result",
          "data": {
            "text/plain": "{1, 2, 3, 4, 5}"
          },
          "metadata": {}
        }
      ],
      "execution_count": 67
    },
    {
      "id": "2d6f71c7-554a-4baf-a1aa-31c442ba6fdf",
      "cell_type": "code",
      "source": "def bfs_with_adj_list(source, adj_list):\n    bfs_traversal_info = {}\n    \n    for node in adj_list:\n        bfs_traversal_info[node] = [-1, -1] # (level, parent)\n        \n    bfs_traversal_info[source][0] = 0\n    proc_queue = deque([source])\n\n    while proc_queue:\n        curr_node = proc_queue.popleft()\n        for nbr in adj_list[curr_node]:\n            if bfs_traversal_info[nbr][0] == -1:\n                bfs_traversal_info[nbr][0] = bfs_traversal_info[curr_node][0] + 1\n                bfs_traversal_info[nbr][1] = curr_node\n                proc_queue.append(nbr)\n    return bfs_traversal_info",
      "metadata": {
        "trusted": true
      },
      "outputs": [],
      "execution_count": 73
    },
    {
      "id": "93319702-462d-40c1-9c17-7a2021b88aad",
      "cell_type": "code",
      "source": "edges = [\n    (0, 1),\n    (0, 2),\n    (1, 2),\n    (1, 3),\n    (2, 4),\n    (3, 4),\n    (3, 5),\n    (4, 5)\n]",
      "metadata": {
        "trusted": true
      },
      "outputs": [],
      "execution_count": 52
    },
    {
      "id": "cc392e47-d78f-4379-a4f5-69fbac936a18",
      "cell_type": "code",
      "source": "def adjacency_list(edges, is_directed=False):\n    adj_list = defaultdict(list)\n    for u, v in edges:\n        adj_list[u].append(v)\n        if not is_directed:\n            adj_list[v].append(u)\n        if v not in adj_list:\n            adj_list.setdefault(v, [])\n    return adj_list",
      "metadata": {
        "trusted": true
      },
      "outputs": [],
      "execution_count": 70
    },
    {
      "id": "8c1b244a-37ba-43e1-afd6-551dfe939899",
      "cell_type": "code",
      "source": "adjacency_list(edges)",
      "metadata": {
        "trusted": true
      },
      "outputs": [
        {
          "execution_count": 71,
          "output_type": "execute_result",
          "data": {
            "text/plain": "defaultdict(list,\n            {0: [1, 2],\n             1: [0, 2, 3],\n             2: [0, 1, 4],\n             3: [1, 4, 5],\n             4: [2, 3, 5],\n             5: [3, 4]})"
          },
          "metadata": {}
        }
      ],
      "execution_count": 71
    },
    {
      "id": "8a99f203-c657-4dd7-ad09-b0282c123a46",
      "cell_type": "code",
      "source": "bfs_with_adj_list(0, adjacency_list(edges))",
      "metadata": {
        "trusted": true
      },
      "outputs": [
        {
          "name": "stdout",
          "output_type": "stream",
          "text": "0\n1\n2\n3\n4\n5\n"
        },
        {
          "execution_count": 72,
          "output_type": "execute_result",
          "data": {
            "text/plain": "{0: [0, -1], 1: [1, 0], 2: [1, 0], 3: [2, 1], 4: [2, 2], 5: [3, 3]}"
          },
          "metadata": {}
        }
      ],
      "execution_count": 72
    },
    {
      "id": "1a983399-ec3c-4947-b123-23ef8d77c666",
      "cell_type": "code",
      "source": "",
      "metadata": {
        "trusted": true
      },
      "outputs": [],
      "execution_count": null
    },
    {
      "id": "429242ce-308e-48db-978d-59556172029f",
      "cell_type": "code",
      "source": "",
      "metadata": {
        "trusted": true
      },
      "outputs": [],
      "execution_count": null
    },
    {
      "id": "c736985e-77c0-41f6-b5cb-d7b8d1ffa156",
      "cell_type": "code",
      "source": "",
      "metadata": {
        "trusted": true
      },
      "outputs": [],
      "execution_count": null
    },
    {
      "id": "c6a2e3f2-1610-4671-9522-f150e36c1c9c",
      "cell_type": "code",
      "source": "",
      "metadata": {
        "trusted": true
      },
      "outputs": [],
      "execution_count": null
    },
    {
      "id": "987bbcd9-ebb1-461a-9ce8-b007226c5398",
      "cell_type": "code",
      "source": "",
      "metadata": {
        "trusted": true
      },
      "outputs": [],
      "execution_count": null
    },
    {
      "id": "f17c128d-b326-4643-bcff-b42460093ca9",
      "cell_type": "code",
      "source": "",
      "metadata": {
        "trusted": true
      },
      "outputs": [],
      "execution_count": null
    }
  ]
}